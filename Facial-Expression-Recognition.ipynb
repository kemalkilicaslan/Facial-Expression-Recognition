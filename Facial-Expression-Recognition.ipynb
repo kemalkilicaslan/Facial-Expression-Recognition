{
 "cells": [
  {
   "cell_type": "markdown",
   "metadata": {
    "id": "TVZJB6C5vobN"
   },
   "source": [
    "# Facial Expression Recognition\n",
    "\n",
    "The FER-2013 dataset created for the Facial Expression Recognition Competition consists of 35887 images with a resolution of 48x48 pixels showing facial expressions corresponding to seven different emotion classes (Angry, Disgust, Fear, Happy, Sad, Surprise and Neutral). 80% of this dataset was used for training and 20% for testing."
   ]
  },
  {
   "cell_type": "markdown",
   "metadata": {
    "id": "Csakwg5i9QcR"
   },
   "source": [
    "## Install Packages and Dataset"
   ]
  },
  {
   "cell_type": "code",
   "execution_count": 1,
   "metadata": {
    "colab": {
     "base_uri": "https://localhost:8080/"
    },
    "id": "aLv5Cl7pYfr1",
    "outputId": "b3ec4ec9-a48e-4852-ad1e-13e66c847a0e"
   },
   "outputs": [
    {
     "name": "stdout",
     "output_type": "stream",
     "text": [
      "Cloning into 'Facial-Expression-Recognition'...\n",
      "remote: Enumerating objects: 34066, done.\u001b[K\n",
      "remote: Total 34066 (delta 0), reused 0 (delta 0), pack-reused 34066 (from 1)\u001b[K\n",
      "Receiving objects: 100% (34066/34066), 67.14 MiB | 17.63 MiB/s, done.\n",
      "Resolving deltas: 100% (6/6), done.\n",
      "Updating files: 100% (35901/35901), done.\n",
      "Collecting timm\n",
      "  Downloading timm-1.0.9-py3-none-any.whl.metadata (42 kB)\n",
      "\u001b[2K     \u001b[90m━━━━━━━━━━━━━━━━━━━━━━━━━━━━━━━━━━━━━━━━\u001b[0m \u001b[32m42.4/42.4 kB\u001b[0m \u001b[31m2.3 MB/s\u001b[0m eta \u001b[36m0:00:00\u001b[0m\n",
      "\u001b[?25hRequirement already satisfied: torch in /usr/local/lib/python3.10/dist-packages (from timm) (2.4.0+cu121)\n",
      "Requirement already satisfied: torchvision in /usr/local/lib/python3.10/dist-packages (from timm) (0.19.0+cu121)\n",
      "Requirement already satisfied: pyyaml in /usr/local/lib/python3.10/dist-packages (from timm) (6.0.2)\n",
      "Requirement already satisfied: huggingface_hub in /usr/local/lib/python3.10/dist-packages (from timm) (0.24.6)\n",
      "Requirement already satisfied: safetensors in /usr/local/lib/python3.10/dist-packages (from timm) (0.4.4)\n",
      "Requirement already satisfied: filelock in /usr/local/lib/python3.10/dist-packages (from huggingface_hub->timm) (3.15.4)\n",
      "Requirement already satisfied: fsspec>=2023.5.0 in /usr/local/lib/python3.10/dist-packages (from huggingface_hub->timm) (2024.6.1)\n",
      "Requirement already satisfied: packaging>=20.9 in /usr/local/lib/python3.10/dist-packages (from huggingface_hub->timm) (24.1)\n",
      "Requirement already satisfied: requests in /usr/local/lib/python3.10/dist-packages (from huggingface_hub->timm) (2.32.3)\n",
      "Requirement already satisfied: tqdm>=4.42.1 in /usr/local/lib/python3.10/dist-packages (from huggingface_hub->timm) (4.66.5)\n",
      "Requirement already satisfied: typing-extensions>=3.7.4.3 in /usr/local/lib/python3.10/dist-packages (from huggingface_hub->timm) (4.12.2)\n",
      "Requirement already satisfied: sympy in /usr/local/lib/python3.10/dist-packages (from torch->timm) (1.13.2)\n",
      "Requirement already satisfied: networkx in /usr/local/lib/python3.10/dist-packages (from torch->timm) (3.3)\n",
      "Requirement already satisfied: jinja2 in /usr/local/lib/python3.10/dist-packages (from torch->timm) (3.1.4)\n",
      "Requirement already satisfied: numpy in /usr/local/lib/python3.10/dist-packages (from torchvision->timm) (1.26.4)\n",
      "Requirement already satisfied: pillow!=8.3.*,>=5.3.0 in /usr/local/lib/python3.10/dist-packages (from torchvision->timm) (9.4.0)\n",
      "Requirement already satisfied: MarkupSafe>=2.0 in /usr/local/lib/python3.10/dist-packages (from jinja2->torch->timm) (2.1.5)\n",
      "Requirement already satisfied: charset-normalizer<4,>=2 in /usr/local/lib/python3.10/dist-packages (from requests->huggingface_hub->timm) (3.3.2)\n",
      "Requirement already satisfied: idna<4,>=2.5 in /usr/local/lib/python3.10/dist-packages (from requests->huggingface_hub->timm) (3.8)\n",
      "Requirement already satisfied: urllib3<3,>=1.21.1 in /usr/local/lib/python3.10/dist-packages (from requests->huggingface_hub->timm) (2.0.7)\n",
      "Requirement already satisfied: certifi>=2017.4.17 in /usr/local/lib/python3.10/dist-packages (from requests->huggingface_hub->timm) (2024.8.30)\n",
      "Requirement already satisfied: mpmath<1.4,>=1.1.0 in /usr/local/lib/python3.10/dist-packages (from sympy->torch->timm) (1.3.0)\n",
      "Downloading timm-1.0.9-py3-none-any.whl (2.3 MB)\n",
      "\u001b[2K   \u001b[90m━━━━━━━━━━━━━━━━━━━━━━━━━━━━━━━━━━━━━━━━\u001b[0m \u001b[32m2.3/2.3 MB\u001b[0m \u001b[31m41.0 MB/s\u001b[0m eta \u001b[36m0:00:00\u001b[0m\n",
      "\u001b[?25hInstalling collected packages: timm\n",
      "Successfully installed timm-1.0.9\n"
     ]
    }
   ],
   "source": [
    "!git clone https://github.com/kemalkilicaslan/Facial-Expression-Recognition.git\n",
    "!pip install timm"
   ]
  },
  {
   "cell_type": "markdown",
   "metadata": {
    "id": "xoVVdBpoweEk"
   },
   "source": [
    "## Imports"
   ]
  },
  {
   "cell_type": "code",
   "execution_count": 2,
   "metadata": {
    "id": "creZrxH0vv20"
   },
   "outputs": [],
   "source": [
    "import numpy as np\n",
    "import matplotlib.pyplot as plt\n",
    "import torch"
   ]
  },
  {
   "cell_type": "markdown",
   "metadata": {
    "id": "p5604GKdwtAr"
   },
   "source": [
    "## Configurations"
   ]
  },
  {
   "cell_type": "code",
   "execution_count": 3,
   "metadata": {
    "id": "dd6v8vyGwp3F"
   },
   "outputs": [],
   "source": [
    "train_img_folder_path = '/content/Facial-Expression-Recognition/train'\n",
    "test_img_folder_path = '/content/Facial-Expression-Recognition/test'"
   ]
  },
  {
   "cell_type": "code",
   "execution_count": 4,
   "metadata": {
    "id": "S_-ndOFg5vNm"
   },
   "outputs": [],
   "source": [
    "lr = 0.001\n",
    "batch_size=32\n",
    "epochs=20\n",
    "device = 'cuda'\n",
    "model_name='efficientnet'"
   ]
  },
  {
   "cell_type": "markdown",
   "metadata": {
    "id": "wn5jWAF9xDUY"
   },
   "source": [
    "## Load Dataset"
   ]
  },
  {
   "cell_type": "code",
   "execution_count": 5,
   "metadata": {
    "id": "uvujfkVHxJ0V"
   },
   "outputs": [],
   "source": [
    "from torchvision.datasets import ImageFolder\n",
    "from torchvision import transforms as T"
   ]
  },
  {
   "cell_type": "code",
   "execution_count": 6,
   "metadata": {
    "id": "Jqf-Ktqsx9WL"
   },
   "outputs": [],
   "source": [
    "train_aug = T.Compose([\n",
    "    T.RandomHorizontalFlip(p=0.5),\n",
    "    T.RandomRotation(degrees=(-20, +20)),\n",
    "    T.ToTensor() # PIL / numpy arr -> torch tensor -> (h, w,c) -> (c, h, w)\n",
    "])\n",
    "\n",
    "test_aug= T.Compose([\n",
    "    T.ToTensor()\n",
    "])"
   ]
  },
  {
   "cell_type": "code",
   "execution_count": 7,
   "metadata": {
    "colab": {
     "base_uri": "https://localhost:8080/"
    },
    "id": "oeU1NfmYxC7J",
    "outputId": "40321065-b29b-4f12-936d-315f56b8c736"
   },
   "outputs": [
    {
     "name": "stdout",
     "output_type": "stream",
     "text": [
      "Total no. of examples in trainset : 28709\n",
      "Total no. of examples in testset : 7178\n"
     ]
    }
   ],
   "source": [
    "trainset = ImageFolder(train_img_folder_path, transform = train_aug)\n",
    "testset = ImageFolder(test_img_folder_path, transform = test_aug)\n",
    "\n",
    "print(f\"Total no. of examples in trainset : {len(trainset)}\")\n",
    "print(f\"Total no. of examples in testset : {len(testset)}\")"
   ]
  },
  {
   "cell_type": "code",
   "execution_count": 8,
   "metadata": {
    "colab": {
     "base_uri": "https://localhost:8080/"
    },
    "id": "NtoA4SRny_vz",
    "outputId": "01e1779a-7cea-45aa-c7c8-86bd9fe5d7de"
   },
   "outputs": [
    {
     "name": "stdout",
     "output_type": "stream",
     "text": [
      "{'angry': 0, 'disgust': 1, 'fear': 2, 'happy': 3, 'neutral': 4, 'sad': 5, 'surprise': 6}\n"
     ]
    }
   ],
   "source": [
    "print(trainset.class_to_idx)"
   ]
  },
  {
   "cell_type": "code",
   "execution_count": 9,
   "metadata": {
    "colab": {
     "base_uri": "https://localhost:8080/",
     "height": 470
    },
    "id": "0-b1SLqNw91J",
    "outputId": "5d83fe33-94b3-49a5-848f-869d9ec3fd31"
   },
   "outputs": [
    {
     "data": {
      "text/plain": [
       "Text(0.5, 1.0, '0')"
      ]
     },
     "execution_count": 9,
     "metadata": {},
     "output_type": "execute_result"
    },
    {
     "data": {
      "image/png": "[encoded data removed]",
      "text/plain": [
       "<Figure size 640x480 with 1 Axes>"
      ]
     },
     "metadata": {},
     "output_type": "display_data"
    }
   ],
   "source": [
    "image, label = trainset[40]\n",
    "plt.imshow(image.permute(1,2,0)) #(h, w, c)\n",
    "plt.title(label)"
   ]
  },
  {
   "cell_type": "code",
   "execution_count": 10,
   "metadata": {
    "colab": {
     "base_uri": "https://localhost:8080/",
     "height": 470
    },
    "id": "YdTj0phDVazo",
    "outputId": "20d366a6-8fee-4403-96e2-7b843a8f9ba0"
   },
   "outputs": [
    {
     "data": {
      "text/plain": [
       "Text(0.5, 1.0, '0')"
      ]
     },
     "execution_count": 10,
     "metadata": {},
     "output_type": "execute_result"
    },
    {
     "data": {
      "image/png": "[encoded data removed]",
      "text/plain": [
       "<Figure size 640x480 with 1 Axes>"
      ]
     },
     "metadata": {},
     "output_type": "display_data"
    }
   ],
   "source": [
    "image, label = testset[40]\n",
    "plt.imshow(image.permute(1,2,0)) #(h, w, c)\n",
    "plt.title(label)"
   ]
  },
  {
   "cell_type": "code",
   "execution_count": 11,
   "metadata": {
    "id": "egpuikhHymP7"
   },
   "outputs": [],
   "source": [
    "from torch.utils.data import DataLoader"
   ]
  },
  {
   "cell_type": "code",
   "execution_count": 12,
   "metadata": {
    "colab": {
     "base_uri": "https://localhost:8080/"
    },
    "id": "Pea8G9-HzhuZ",
    "outputId": "43861cfe-e8a1-487d-9dae-efc5cadf4a2c"
   },
   "outputs": [
    {
     "name": "stdout",
     "output_type": "stream",
     "text": [
      "Total no. of batches in trainloader : 898\n",
      "Total no. of batches in testloader : 225\n"
     ]
    }
   ],
   "source": [
    "trainloader = DataLoader(trainset, batch_size = batch_size, shuffle=True)\n",
    "testloader = DataLoader(testset, batch_size, batch_size)\n",
    "\n",
    "print(f\"Total no. of batches in trainloader : {len(trainloader)}\")\n",
    "print(f\"Total no. of batches in testloader : {len(testloader)}\")"
   ]
  },
  {
   "cell_type": "code",
   "execution_count": 13,
   "metadata": {
    "colab": {
     "base_uri": "https://localhost:8080/"
    },
    "id": "vtVSVVj-zp1C",
    "outputId": "a6fd3f2c-ec4e-44c8-ea7a-4adc52a1daa2"
   },
   "outputs": [
    {
     "name": "stdout",
     "output_type": "stream",
     "text": [
      "One image batch shape : torch.Size([32, 3, 48, 48])\n",
      "One label batch shape : torch.Size([32])\n"
     ]
    }
   ],
   "source": [
    "for images, labels in trainloader:\n",
    "  break;\n",
    "\n",
    "print(f\"One image batch shape : {images.shape}\")\n",
    "print(f\"One label batch shape : {labels.shape}\")"
   ]
  },
  {
   "cell_type": "markdown",
   "metadata": {
    "id": "GQvgvbKu0TUG"
   },
   "source": [
    "## Create Model"
   ]
  },
  {
   "cell_type": "code",
   "execution_count": 14,
   "metadata": {
    "id": "iqwWf5-O0SWP"
   },
   "outputs": [],
   "source": [
    "import timm\n",
    "from torch import nn"
   ]
  },
  {
   "cell_type": "code",
   "execution_count": 15,
   "metadata": {
    "id": "U6uJZmUw0XJX"
   },
   "outputs": [],
   "source": [
    "class FaceRecognitionModel(nn.Module):\n",
    "\n",
    "  def __init__(self):\n",
    "    super(FaceRecognitionModel, self).__init__()\n",
    "\n",
    "    self.eff_net = timm.create_model('efficientnet_b0', pretrained = True, num_classes = 7)\n",
    "\n",
    "  def forward(self, images, labels = None):\n",
    "    logits = self.eff_net(images)\n",
    "\n",
    "    if labels != None:\n",
    "      loss = nn.CrossEntropyLoss()(logits, labels)\n",
    "      return logits, loss\n",
    "\n",
    "    return logits"
   ]
  },
  {
   "cell_type": "code",
   "execution_count": 16,
   "metadata": {
    "colab": {
     "base_uri": "https://localhost:8080/",
     "height": 156,
     "referenced_widgets": [
      "99e61509afa04371a6b3d60d508aaa85",
      "18eb6ae124fe4465a092d912b6b77a93",
      "e9959b6384254d3b835a100513a5f213",
      "aa87c38af52f4a498391dc0e42475c8c",
      "4521422464e24a6ab8050889b9d4f615",
      "f2b4ff6f50054f1c99fd65ddefcf516f",
      "9ec0b5ade0e94dea9101220a1e73fcfe",
      "4f5478a76b65440c8b54a3dfde57d136",
      "9321880f13114bb1853cdecb35374127",
      "08bb9c86a50f4d6d8cabe6159a4d7ed1",
      "d28c3ca70eaf4a0eb545bfa7ec20d48a"
     ]
    },
    "id": "hgp5OjEO0_2w",
    "outputId": "028cd201-3944-4470-c17d-f27fdc4bf80a"
   },
   "outputs": [
    {
     "name": "stderr",
     "output_type": "stream",
     "text": [
      "/usr/local/lib/python3.10/dist-packages/huggingface_hub/utils/_token.py:89: UserWarning: \n",
      "The secret `HF_TOKEN` does not exist in your Colab secrets.\n",
      "To authenticate with the Hugging Face Hub, create a token in your settings tab (https://huggingface.co/settings/tokens), set it as secret in your Google Colab and restart your session.\n",
      "You will be able to reuse this secret in all of your notebooks.\n",
      "Please note that authentication is recommended but still optional to access public models or datasets.\n",
      "  warnings.warn(\n"
     ]
    },
    {
     "data": {
      "application/vnd.jupyter.widget-view+json": {
       "model_id": "99e61509afa04371a6b3d60d508aaa85",
       "version_major": 2,
       "version_minor": 0
      },
      "text/plain": [
       "model.safetensors:   0%|          | 0.00/21.4M [00:00<?, ?B/s]"
      ]
     },
     "metadata": {},
     "output_type": "display_data"
    }
   ],
   "source": [
    "model = FaceRecognitionModel()\n",
    "model.to(device);"
   ]
  },
  {
   "cell_type": "markdown",
   "metadata": {
    "id": "GzDb6TdaCpF5"
   },
   "source": [
    "## Create Train and Eval Function"
   ]
  },
  {
   "cell_type": "code",
   "execution_count": 17,
   "metadata": {
    "id": "eLQVQA0PVjX8"
   },
   "outputs": [],
   "source": [
    "from tqdm import tqdm"
   ]
  },
  {
   "cell_type": "code",
   "execution_count": 18,
   "metadata": {
    "id": "esp-tSrxTiPX"
   },
   "outputs": [],
   "source": [
    "def multiclass_accuracy(y_pred,y_true):\n",
    "    top_p,top_class = y_pred.topk(1,dim = 1)\n",
    "    equals = top_class == y_true.view(*top_class.shape)\n",
    "    return torch.mean(equals.type(torch.FloatTensor))"
   ]
  },
  {
   "cell_type": "code",
   "execution_count": 19,
   "metadata": {
    "id": "QBim_pZxColX"
   },
   "outputs": [],
   "source": [
    "def train_func(model, dataloader, optimizer, epoch):\n",
    "  model.train()\n",
    "  total_loss = 0.0\n",
    "  total_acc = 0.0\n",
    "  tk = tqdm(dataloader, desc = \"epoch\" + \"[train]\" + str(epoch + 1) +  \"/\" + str(epochs))\n",
    "\n",
    "  for t, data in enumerate(tk):\n",
    "    images, labels = data\n",
    "    images, labels = images.to(device), labels.to(device)\n",
    "\n",
    "    optimizer.zero_grad()\n",
    "    logits, loss = model(images, labels)\n",
    "    loss.backward()\n",
    "    optimizer.step()\n",
    "\n",
    "    total_loss += loss.item()\n",
    "    total_acc += multiclass_accuracy(logits, labels)\n",
    "    tk.set_postfix({'loss' : '%6f' %float(total_loss / (t + 1)), 'acc' : '%6f' %float(total_acc / (t + 1)),})\n",
    "\n",
    "  return total_loss / len(dataloader), total_acc / len(dataloader)"
   ]
  },
  {
   "cell_type": "code",
   "execution_count": 20,
   "metadata": {
    "id": "T3eGYNqR1FeL"
   },
   "outputs": [],
   "source": [
    "def eval_func(model, dataloader, epoch):\n",
    "  model.eval()\n",
    "  total_loss = 0.0\n",
    "  total_acc = 0.0\n",
    "  tk = tqdm(dataloader, desc = \"epoch\" + \"[train]\" + str(epoch + 1) +  \"/\" + str(epochs))\n",
    "\n",
    "  for t, data in enumerate(tk):\n",
    "    images, labels = data\n",
    "    images, labels = images.to(device), labels.to(device)\n",
    "\n",
    "    logits, loss = model(images, labels)\n",
    "\n",
    "    total_loss += loss.item()\n",
    "    total_acc += multiclass_accuracy(logits, labels)\n",
    "    tk.set_postfix({'loss' : '%6f' %float(total_loss / (t + 1)), 'acc' : '%6f' %float(total_acc / (t + 1)),})\n",
    "\n",
    "  return total_loss / len(dataloader), total_acc / len(dataloader)"
   ]
  },
  {
   "cell_type": "markdown",
   "metadata": {
    "id": "f2YsWQvsXiKG"
   },
   "source": [
    "## Model Training"
   ]
  },
  {
   "cell_type": "code",
   "execution_count": 21,
   "metadata": {
    "id": "mbKd9D7pWeM_"
   },
   "outputs": [],
   "source": [
    "optimizer = torch.optim.Adam(model.parameters(),lr = lr)"
   ]
  },
  {
   "cell_type": "code",
   "execution_count": 22,
   "metadata": {
    "colab": {
     "base_uri": "https://localhost:8080/"
    },
    "id": "E8yzdLmLXkC-",
    "outputId": "ea27da86-cfc5-44f6-a9a9-3ad8250bf11f"
   },
   "outputs": [
    {
     "name": "stderr",
     "output_type": "stream",
     "text": [
      "epoch[train]1/20: 100%|██████████| 898/898 [01:00<00:00, 14.81it/s, loss=1.883761, acc=0.374388]\n",
      "epoch[train]1/20: 100%|██████████| 225/225 [00:06<00:00, 34.43it/s, loss=1.407017, acc=0.467028]\n"
     ]
    },
    {
     "name": "stdout",
     "output_type": "stream",
     "text": [
      "Saved best-weights\n"
     ]
    },
    {
     "name": "stderr",
     "output_type": "stream",
     "text": [
      "epoch[train]2/20: 100%|██████████| 898/898 [00:49<00:00, 18.05it/s, loss=1.305521, acc=0.502436]\n",
      "epoch[train]2/20: 100%|██████████| 225/225 [00:06<00:00, 32.70it/s, loss=1.218626, acc=0.536444]\n"
     ]
    },
    {
     "name": "stdout",
     "output_type": "stream",
     "text": [
      "Saved best-weights\n"
     ]
    },
    {
     "name": "stderr",
     "output_type": "stream",
     "text": [
      "epoch[train]3/20: 100%|██████████| 898/898 [00:50<00:00, 17.84it/s, loss=1.206835, acc=0.539637]\n",
      "epoch[train]3/20: 100%|██████████| 225/225 [00:06<00:00, 34.57it/s, loss=1.117001, acc=0.586917]\n"
     ]
    },
    {
     "name": "stdout",
     "output_type": "stream",
     "text": [
      "Saved best-weights\n"
     ]
    },
    {
     "name": "stderr",
     "output_type": "stream",
     "text": [
      "epoch[train]4/20: 100%|██████████| 898/898 [00:49<00:00, 18.25it/s, loss=1.145173, acc=0.566752]\n",
      "epoch[train]4/20: 100%|██████████| 225/225 [00:07<00:00, 32.08it/s, loss=1.111695, acc=0.581750]\n"
     ]
    },
    {
     "name": "stdout",
     "output_type": "stream",
     "text": [
      "Saved best-weights\n"
     ]
    },
    {
     "name": "stderr",
     "output_type": "stream",
     "text": [
      "epoch[train]5/20: 100%|██████████| 898/898 [00:48<00:00, 18.63it/s, loss=1.104800, acc=0.584452]\n",
      "epoch[train]5/20: 100%|██████████| 225/225 [00:06<00:00, 35.15it/s, loss=1.082588, acc=0.592889]\n"
     ]
    },
    {
     "name": "stdout",
     "output_type": "stream",
     "text": [
      "Saved best-weights\n"
     ]
    },
    {
     "name": "stderr",
     "output_type": "stream",
     "text": [
      "epoch[train]6/20: 100%|██████████| 898/898 [00:49<00:00, 18.15it/s, loss=1.069630, acc=0.600891]\n",
      "epoch[train]6/20: 100%|██████████| 225/225 [00:07<00:00, 28.57it/s, loss=1.048203, acc=0.603056]\n"
     ]
    },
    {
     "name": "stdout",
     "output_type": "stream",
     "text": [
      "Saved best-weights\n"
     ]
    },
    {
     "name": "stderr",
     "output_type": "stream",
     "text": [
      "epoch[train]7/20: 100%|██████████| 898/898 [00:48<00:00, 18.34it/s, loss=1.037170, acc=0.611052]\n",
      "epoch[train]7/20: 100%|██████████| 225/225 [00:06<00:00, 34.89it/s, loss=1.072431, acc=0.600361]\n",
      "epoch[train]8/20: 100%|██████████| 898/898 [00:47<00:00, 18.83it/s, loss=1.009305, acc=0.621966]\n",
      "epoch[train]8/20: 100%|██████████| 225/225 [00:06<00:00, 32.45it/s, loss=1.080834, acc=0.602139]\n",
      "epoch[train]9/20: 100%|██████████| 898/898 [00:48<00:00, 18.66it/s, loss=0.985991, acc=0.631271]\n",
      "epoch[train]9/20: 100%|██████████| 225/225 [00:06<00:00, 35.22it/s, loss=1.014611, acc=0.626444]\n"
     ]
    },
    {
     "name": "stdout",
     "output_type": "stream",
     "text": [
      "Saved best-weights\n"
     ]
    },
    {
     "name": "stderr",
     "output_type": "stream",
     "text": [
      "epoch[train]10/20: 100%|██████████| 898/898 [00:49<00:00, 18.06it/s, loss=0.954829, acc=0.645852]\n",
      "epoch[train]10/20: 100%|██████████| 225/225 [00:07<00:00, 31.59it/s, loss=1.007036, acc=0.622278]\n"
     ]
    },
    {
     "name": "stdout",
     "output_type": "stream",
     "text": [
      "Saved best-weights\n"
     ]
    },
    {
     "name": "stderr",
     "output_type": "stream",
     "text": [
      "epoch[train]11/20: 100%|██████████| 898/898 [00:49<00:00, 18.21it/s, loss=0.926978, acc=0.655297]\n",
      "epoch[train]11/20: 100%|██████████| 225/225 [00:06<00:00, 32.97it/s, loss=0.993961, acc=0.633778]\n"
     ]
    },
    {
     "name": "stdout",
     "output_type": "stream",
     "text": [
      "Saved best-weights\n"
     ]
    },
    {
     "name": "stderr",
     "output_type": "stream",
     "text": [
      "epoch[train]12/20: 100%|██████████| 898/898 [00:47<00:00, 18.72it/s, loss=0.899064, acc=0.663502]\n",
      "epoch[train]12/20: 100%|██████████| 225/225 [00:07<00:00, 32.05it/s, loss=0.972065, acc=0.640333]\n"
     ]
    },
    {
     "name": "stdout",
     "output_type": "stream",
     "text": [
      "Saved best-weights\n"
     ]
    },
    {
     "name": "stderr",
     "output_type": "stream",
     "text": [
      "epoch[train]13/20: 100%|██████████| 898/898 [00:49<00:00, 18.20it/s, loss=0.875750, acc=0.673615]\n",
      "epoch[train]13/20: 100%|██████████| 225/225 [00:07<00:00, 29.93it/s, loss=0.970558, acc=0.647278]\n"
     ]
    },
    {
     "name": "stdout",
     "output_type": "stream",
     "text": [
      "Saved best-weights\n"
     ]
    },
    {
     "name": "stderr",
     "output_type": "stream",
     "text": [
      "epoch[train]14/20: 100%|██████████| 898/898 [00:49<00:00, 18.20it/s, loss=0.835833, acc=0.690883]\n",
      "epoch[train]14/20: 100%|██████████| 225/225 [00:06<00:00, 34.46it/s, loss=1.022189, acc=0.635056]\n",
      "epoch[train]15/20: 100%|██████████| 898/898 [00:49<00:00, 18.02it/s, loss=0.810062, acc=0.700118]\n",
      "epoch[train]15/20: 100%|██████████| 225/225 [00:07<00:00, 31.63it/s, loss=1.021381, acc=0.635417]\n",
      "epoch[train]16/20: 100%|██████████| 898/898 [00:48<00:00, 18.41it/s, loss=0.777630, acc=0.711205]\n",
      "epoch[train]16/20: 100%|██████████| 225/225 [00:06<00:00, 34.86it/s, loss=1.063910, acc=0.628500]\n",
      "epoch[train]17/20: 100%|██████████| 898/898 [00:48<00:00, 18.62it/s, loss=0.754886, acc=0.716551]\n",
      "epoch[train]17/20: 100%|██████████| 225/225 [00:06<00:00, 32.54it/s, loss=1.018754, acc=0.644694]\n",
      "epoch[train]18/20: 100%|██████████| 898/898 [00:47<00:00, 18.82it/s, loss=0.729354, acc=0.728793]\n",
      "epoch[train]18/20: 100%|██████████| 225/225 [00:06<00:00, 34.87it/s, loss=1.005324, acc=0.639889]\n",
      "epoch[train]19/20: 100%|██████████| 898/898 [00:49<00:00, 18.32it/s, loss=0.698610, acc=0.741913]\n",
      "epoch[train]19/20: 100%|██████████| 225/225 [00:06<00:00, 34.34it/s, loss=1.023611, acc=0.646306]\n",
      "epoch[train]20/20: 100%|██████████| 898/898 [00:48<00:00, 18.67it/s, loss=0.673161, acc=0.751810]\n",
      "epoch[train]20/20: 100%|██████████| 225/225 [00:07<00:00, 31.98it/s, loss=1.027763, acc=0.652111]\n"
     ]
    }
   ],
   "source": [
    "best_test_loss = np.Inf\n",
    "\n",
    "for i in range(epochs):\n",
    "  train_loss, train_acc = train_func(model, trainloader, optimizer, i)\n",
    "  test_loss, test_acc = eval_func(model, testloader, i)\n",
    "\n",
    "  if test_loss < best_test_loss:\n",
    "    torch.save(model.state_dict(), 'best-weights.pt')\n",
    "    print(\"Saved best-weights\")\n",
    "    best_test_loss = test_loss"
   ]
  },
  {
   "cell_type": "markdown",
   "metadata": {
    "id": "cjiklrErXkZ6"
   },
   "source": [
    "## Result"
   ]
  },
  {
   "cell_type": "code",
   "execution_count": 23,
   "metadata": {
    "id": "8iozgi4xhLNg"
   },
   "outputs": [],
   "source": [
    "def view_classify(img, ps):\n",
    "\n",
    "    classes = ['angry', 'disgust', 'fear', 'happy', 'neutral', 'sad', 'surprise']\n",
    "\n",
    "    ps = ps.data.cpu().numpy().squeeze()\n",
    "    img = img.numpy().transpose(1,2,0)\n",
    "\n",
    "    fig, (ax1, ax2) = plt.subplots(figsize=(5,9), ncols=2)\n",
    "    ax1.imshow(img)\n",
    "    ax1.axis('off')\n",
    "    ax2.barh(classes, ps)\n",
    "    ax2.set_aspect(0.1)\n",
    "    ax2.set_yticks(classes)\n",
    "    ax2.set_yticklabels(classes)\n",
    "    ax2.set_title('Class Probability')\n",
    "    ax2.set_xlim(0, 1.1)\n",
    "\n",
    "    plt.tight_layout()\n",
    "\n",
    "    return None"
   ]
  },
  {
   "cell_type": "code",
   "execution_count": 24,
   "metadata": {
    "colab": {
     "base_uri": "https://localhost:8080/",
     "height": 1000
    },
    "id": "--1gRsfS3qpr",
    "outputId": "020d3555-f58b-408e-d0e1-967af14c8544"
   },
   "outputs": [
    {
     "name": "stdout",
     "output_type": "stream",
     "text": [
      "True Label: angry, Predicted Label: neutral, Predicted Probability: 0.5149165391921997\n",
      "True Label: disgust, Predicted Label: disgust, Predicted Probability: 0.9832137823104858\n",
      "True Label: fear, Predicted Label: fear, Predicted Probability: 0.6614649295806885\n",
      "True Label: happy, Predicted Label: neutral, Predicted Probability: 0.6892452239990234\n",
      "True Label: neutral, Predicted Label: neutral, Predicted Probability: 0.9521661996841431\n",
      "True Label: sad, Predicted Label: sad, Predicted Probability: 0.5819612741470337\n",
      "True Label: surprise, Predicted Label: sad, Predicted Probability: 0.4685453772544861\n"
     ]
    },
    {
     "data": {
      "image/png": "[encoded data removed]",
      "text/plain": [
       "<Figure size 500x900 with 2 Axes>"
      ]
     },
     "metadata": {},
     "output_type": "display_data"
    },
    {
     "data": {
      "image/png": "[encoded data removed]",
      "text/plain": [
       "<Figure size 500x900 with 2 Axes>"
      ]
     },
     "metadata": {},
     "output_type": "display_data"
    },
    {
     "data": {
      "image/png": "[encoded data removed]",
      "text/plain": [
       "<Figure size 500x900 with 2 Axes>"
      ]
     },
     "metadata": {},
     "output_type": "display_data"
    },
    {
     "data": {
      "image/png": "[encoded data removed]",
      "text/plain": [
       "<Figure size 500x900 with 2 Axes>"
      ]
     },
     "metadata": {},
     "output_type": "display_data"
    },
    {
     "data": {
      "image/png": "[encoded data removed]",
      "text/plain": [
       "<Figure size 500x900 with 2 Axes>"
      ]
     },
     "metadata": {},
     "output_type": "display_data"
    },
    {
     "data": {
      "image/png": "[encoded data removed]",
      "text/plain": [
       "<Figure size 500x900 with 2 Axes>"
      ]
     },
     "metadata": {},
     "output_type": "display_data"
    },
    {
     "data": {
      "image/png": "[encoded data removed]",
      "text/plain": [
       "<Figure size 500x900 with 2 Axes>"
      ]
     },
     "metadata": {},
     "output_type": "display_data"
    }
   ],
   "source": [
    "def predict(model, dataloader, num_class=7):\n",
    "    model.eval()\n",
    "    images, labels = next(iter(dataloader))\n",
    "    images, labels = images.to(device), labels.to(device)\n",
    "    with torch.no_grad():\n",
    "        logits = model(images)\n",
    "        ps = torch.softmax(logits, dim=1)\n",
    "        top_p, top_class = ps.topk(1, dim=1)\n",
    "\n",
    "    for i in range(num_class):\n",
    "        for j, image in enumerate(images):\n",
    "            label = labels[j].item()\n",
    "            predicted_class = top_class[j].item()\n",
    "            predicted_prob = top_p[j].item()\n",
    "\n",
    "            predicted_label = trainset.classes[predicted_class]\n",
    "            true_label = trainset.classes[label]\n",
    "\n",
    "            if true_label == trainset.classes[i]:\n",
    "                print(f\"True Label: {true_label}, Predicted Label: {predicted_label}, Predicted Probability: {predicted_prob}\")\n",
    "                view_classify(image.cpu(), ps[j])\n",
    "                break  # Show only the first prediction for each class\n",
    "\n",
    "# Example usage\n",
    "predict(model, testloader, num_class=7)"
   ]
  }
 ],
 "metadata": {
  "accelerator": "GPU",
  "colab": {
   "gpuType": "T4",
   "provenance": []
  },
  "kernelspec": {
   "display_name": "Python 3",
   "name": "python3"
  },
  "language_info": {
   "codemirror_mode": {
    "name": "ipython",
    "version": 3
   },
   "file_extension": ".py",
   "mimetype": "text/x-python",
   "name": "python",
   "nbconvert_exporter": "python",
   "pygments_lexer": "ipython3",
   "version": "3.11.5"
  },
  "widgets": {
   "application/vnd.jupyter.widget-state+json": {
    "08bb9c86a50f4d6d8cabe6159a4d7ed1": {
     "model_module": "@jupyter-widgets/base",
     "model_module_version": "1.2.0",
     "model_name": "LayoutModel",
     "state": {
      "_model_module": "@jupyter-widgets/base",
      "_model_module_version": "1.2.0",
      "_model_name": "LayoutModel",
      "_view_count": null,
      "_view_module": "@jupyter-widgets/base",
      "_view_module_version": "1.2.0",
      "_view_name": "LayoutView",
      "align_content": null,
      "align_items": null,
      "align_self": null,
      "border": null,
      "bottom": null,
      "display": null,
      "flex": null,
      "flex_flow": null,
      "grid_area": null,
      "grid_auto_columns": null,
      "grid_auto_flow": null,
      "grid_auto_rows": null,
      "grid_column": null,
      "grid_gap": null,
      "grid_row": null,
      "grid_template_areas": null,
      "grid_template_columns": null,
      "grid_template_rows": null,
      "height": null,
      "justify_content": null,
      "justify_items": null,
      "left": null,
      "margin": null,
      "max_height": null,
      "max_width": null,
      "min_height": null,
      "min_width": null,
      "object_fit": null,
      "object_position": null,
      "order": null,
      "overflow": null,
      "overflow_x": null,
      "overflow_y": null,
      "padding": null,
      "right": null,
      "top": null,
      "visibility": null,
      "width": null
     }
    },
    "18eb6ae124fe4465a092d912b6b77a93": {
     "model_module": "@jupyter-widgets/controls",
     "model_module_version": "1.5.0",
     "model_name": "HTMLModel",
     "state": {
      "_dom_classes": [],
      "_model_module": "@jupyter-widgets/controls",
      "_model_module_version": "1.5.0",
      "_model_name": "HTMLModel",
      "_view_count": null,
      "_view_module": "@jupyter-widgets/controls",
      "_view_module_version": "1.5.0",
      "_view_name": "HTMLView",
      "description": "",
      "description_tooltip": null,
      "layout": "IPY_MODEL_f2b4ff6f50054f1c99fd65ddefcf516f",
      "placeholder": "​",
      "style": "IPY_MODEL_9ec0b5ade0e94dea9101220a1e73fcfe",
      "value": "model.safetensors: 100%"
     }
    },
    "4521422464e24a6ab8050889b9d4f615": {
     "model_module": "@jupyter-widgets/base",
     "model_module_version": "1.2.0",
     "model_name": "LayoutModel",
     "state": {
      "_model_module": "@jupyter-widgets/base",
      "_model_module_version": "1.2.0",
      "_model_name": "LayoutModel",
      "_view_count": null,
      "_view_module": "@jupyter-widgets/base",
      "_view_module_version": "1.2.0",
      "_view_name": "LayoutView",
      "align_content": null,
      "align_items": null,
      "align_self": null,
      "border": null,
      "bottom": null,
      "display": null,
      "flex": null,
      "flex_flow": null,
      "grid_area": null,
      "grid_auto_columns": null,
      "grid_auto_flow": null,
      "grid_auto_rows": null,
      "grid_column": null,
      "grid_gap": null,
      "grid_row": null,
      "grid_template_areas": null,
      "grid_template_columns": null,
      "grid_template_rows": null,
      "height": null,
      "justify_content": null,
      "justify_items": null,
      "left": null,
      "margin": null,
      "max_height": null,
      "max_width": null,
      "min_height": null,
      "min_width": null,
      "object_fit": null,
      "object_position": null,
      "order": null,
      "overflow": null,
      "overflow_x": null,
      "overflow_y": null,
      "padding": null,
      "right": null,
      "top": null,
      "visibility": null,
      "width": null
     }
    },
    "4f5478a76b65440c8b54a3dfde57d136": {
     "model_module": "@jupyter-widgets/base",
     "model_module_version": "1.2.0",
     "model_name": "LayoutModel",
     "state": {
      "_model_module": "@jupyter-widgets/base",
      "_model_module_version": "1.2.0",
      "_model_name": "LayoutModel",
      "_view_count": null,
      "_view_module": "@jupyter-widgets/base",
      "_view_module_version": "1.2.0",
      "_view_name": "LayoutView",
      "align_content": null,
      "align_items": null,
      "align_self": null,
      "border": null,
      "bottom": null,
      "display": null,
      "flex": null,
      "flex_flow": null,
      "grid_area": null,
      "grid_auto_columns": null,
      "grid_auto_flow": null,
      "grid_auto_rows": null,
      "grid_column": null,
      "grid_gap": null,
      "grid_row": null,
      "grid_template_areas": null,
      "grid_template_columns": null,
      "grid_template_rows": null,
      "height": null,
      "justify_content": null,
      "justify_items": null,
      "left": null,
      "margin": null,
      "max_height": null,
      "max_width": null,
      "min_height": null,
      "min_width": null,
      "object_fit": null,
      "object_position": null,
      "order": null,
      "overflow": null,
      "overflow_x": null,
      "overflow_y": null,
      "padding": null,
      "right": null,
      "top": null,
      "visibility": null,
      "width": null
     }
    },
    "9321880f13114bb1853cdecb35374127": {
     "model_module": "@jupyter-widgets/controls",
     "model_module_version": "1.5.0",
     "model_name": "ProgressStyleModel",
     "state": {
      "_model_module": "@jupyter-widgets/controls",
      "_model_module_version": "1.5.0",
      "_model_name": "ProgressStyleModel",
      "_view_count": null,
      "_view_module": "@jupyter-widgets/base",
      "_view_module_version": "1.2.0",
      "_view_name": "StyleView",
      "bar_color": null,
      "description_width": ""
     }
    },
    "99e61509afa04371a6b3d60d508aaa85": {
     "model_module": "@jupyter-widgets/controls",
     "model_module_version": "1.5.0",
     "model_name": "HBoxModel",
     "state": {
      "_dom_classes": [],
      "_model_module": "@jupyter-widgets/controls",
      "_model_module_version": "1.5.0",
      "_model_name": "HBoxModel",
      "_view_count": null,
      "_view_module": "@jupyter-widgets/controls",
      "_view_module_version": "1.5.0",
      "_view_name": "HBoxView",
      "box_style": "",
      "children": [
       "IPY_MODEL_18eb6ae124fe4465a092d912b6b77a93",
       "IPY_MODEL_e9959b6384254d3b835a100513a5f213",
       "IPY_MODEL_aa87c38af52f4a498391dc0e42475c8c"
      ],
      "layout": "IPY_MODEL_4521422464e24a6ab8050889b9d4f615"
     }
    },
    "9ec0b5ade0e94dea9101220a1e73fcfe": {
     "model_module": "@jupyter-widgets/controls",
     "model_module_version": "1.5.0",
     "model_name": "DescriptionStyleModel",
     "state": {
      "_model_module": "@jupyter-widgets/controls",
      "_model_module_version": "1.5.0",
      "_model_name": "DescriptionStyleModel",
      "_view_count": null,
      "_view_module": "@jupyter-widgets/base",
      "_view_module_version": "1.2.0",
      "_view_name": "StyleView",
      "description_width": ""
     }
    },
    "aa87c38af52f4a498391dc0e42475c8c": {
     "model_module": "@jupyter-widgets/controls",
     "model_module_version": "1.5.0",
     "model_name": "HTMLModel",
     "state": {
      "_dom_classes": [],
      "_model_module": "@jupyter-widgets/controls",
      "_model_module_version": "1.5.0",
      "_model_name": "HTMLModel",
      "_view_count": null,
      "_view_module": "@jupyter-widgets/controls",
      "_view_module_version": "1.5.0",
      "_view_name": "HTMLView",
      "description": "",
      "description_tooltip": null,
      "layout": "IPY_MODEL_08bb9c86a50f4d6d8cabe6159a4d7ed1",
      "placeholder": "​",
      "style": "IPY_MODEL_d28c3ca70eaf4a0eb545bfa7ec20d48a",
      "value": " 21.4M/21.4M [00:00&lt;00:00, 63.8MB/s]"
     }
    },
    "d28c3ca70eaf4a0eb545bfa7ec20d48a": {
     "model_module": "@jupyter-widgets/controls",
     "model_module_version": "1.5.0",
     "model_name": "DescriptionStyleModel",
     "state": {
      "_model_module": "@jupyter-widgets/controls",
      "_model_module_version": "1.5.0",
      "_model_name": "DescriptionStyleModel",
      "_view_count": null,
      "_view_module": "@jupyter-widgets/base",
      "_view_module_version": "1.2.0",
      "_view_name": "StyleView",
      "description_width": ""
     }
    },
    "e9959b6384254d3b835a100513a5f213": {
     "model_module": "@jupyter-widgets/controls",
     "model_module_version": "1.5.0",
     "model_name": "FloatProgressModel",
     "state": {
      "_dom_classes": [],
      "_model_module": "@jupyter-widgets/controls",
      "_model_module_version": "1.5.0",
      "_model_name": "FloatProgressModel",
      "_view_count": null,
      "_view_module": "@jupyter-widgets/controls",
      "_view_module_version": "1.5.0",
      "_view_name": "ProgressView",
      "bar_style": "success",
      "description": "",
      "description_tooltip": null,
      "layout": "IPY_MODEL_4f5478a76b65440c8b54a3dfde57d136",
      "max": 21355344,
      "min": 0,
      "orientation": "horizontal",
      "style": "IPY_MODEL_9321880f13114bb1853cdecb35374127",
      "value": 21355344
     }
    },
    "f2b4ff6f50054f1c99fd65ddefcf516f": {
     "model_module": "@jupyter-widgets/base",
     "model_module_version": "1.2.0",
     "model_name": "LayoutModel",
     "state": {
      "_model_module": "@jupyter-widgets/base",
      "_model_module_version": "1.2.0",
      "_model_name": "LayoutModel",
      "_view_count": null,
      "_view_module": "@jupyter-widgets/base",
      "_view_module_version": "1.2.0",
      "_view_name": "LayoutView",
      "align_content": null,
      "align_items": null,
      "align_self": null,
      "border": null,
      "bottom": null,
      "display": null,
      "flex": null,
      "flex_flow": null,
      "grid_area": null,
      "grid_auto_columns": null,
      "grid_auto_flow": null,
      "grid_auto_rows": null,
      "grid_column": null,
      "grid_gap": null,
      "grid_row": null,
      "grid_template_areas": null,
      "grid_template_columns": null,
      "grid_template_rows": null,
      "height": null,
      "justify_content": null,
      "justify_items": null,
      "left": null,
      "margin": null,
      "max_height": null,
      "max_width": null,
      "min_height": null,
      "min_width": null,
      "object_fit": null,
      "object_position": null,
      "order": null,
      "overflow": null,
      "overflow_x": null,
      "overflow_y": null,
      "padding": null,
      "right": null,
      "top": null,
      "visibility": null,
      "width": null
     }
    }
   }
  }
 },
 "nbformat": 4,
 "nbformat_minor": 0
}
